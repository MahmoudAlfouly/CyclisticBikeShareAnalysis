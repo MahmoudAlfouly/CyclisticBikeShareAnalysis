{
 "cells": [
  {
   "cell_type": "markdown",
   "id": "3ce5008f",
   "metadata": {},
   "source": [
    "# Cyclistic Bike Share Analysis\n",
    "\n",
    "This project aims to analyze the Cyclistic bike share data to understand usage patterns and provide insights to increase the conversion of casual riders into subscribers.\n",
    "\n",
    "### Project Objective:\n",
    "Provide the marketing team at Cyclistic with recommendations on how to convert Customers (casual riders) into Subscribers. These recommendations must be backed-up with compelling analyses and visualizations.\n",
    "\n",
    "### Business Problem:\n",
    "Increasing the company's profit through maximizing annual memberships (subscriptions).\n",
    "\n",
    "### Dataset Overview:\n",
    "The dataset contains the following columns:\n",
    "- **Trip_id**: Unique identifier for each trip\n",
    "- **Start_time**: Start time of the trip\n",
    "- **End_time**: End time of the trip\n",
    "- **Bikeid**: Unique identifier for each bike\n",
    "- **Tripduration**: Duration of the trip in seconds\n",
    "- **From_station_id**: ID of the starting station\n",
    "- **From_station_name**: Name of the starting station\n",
    "- **To_station_id**: ID of the destination station\n",
    "- **To_station_name**: Name of the destination station\n",
    "- **Usertype**: Type of user (Customer or Subscriber)\n",
    "- **Gender**: Gender of the user\n",
    "- **Birthyear**: Birth year of the user\n",
    "\n",
    "### Steps Involved:\n",
    "1. **Data Cleaning**: Handling missing values, converting data types, and preparing the data for analysis.\n",
    "2. **Exploratory Data Analysis (EDA)**: Analyzing the data to understand usage patterns and trends.\n",
    "3. **Visualizations**: Creating visualizations to illustrate key insights.\n",
    "4. **Insights and Recommendations**: Providing actionable insights and recommendations to the marketing team.\n",
    "\n",
    "### Importance of the Analysis:\n",
    "Converting casual riders to subscribers is crucial for Cyclistic as it provides a steady stream of revenue and enhances customer loyalty. By understanding the factors that influence casual riders' decisions, we can devise targeted marketing strategies to increase subscriptions."
   ]
  },
  {
   "cell_type": "markdown",
   "id": "0548ad64",
   "metadata": {},
   "source": [
    "## Data Loading and Cleaning\n",
    "The following code loads the dataset and performs initial cleaning steps such as handling missing values, checking duplicates and converting data types."
   ]
  },
  {
   "cell_type": "code",
   "execution_count": 1,
   "id": "230a45ed",
   "metadata": {},
   "outputs": [],
   "source": [
    "# Import the necessary librarires.\n",
    "\n",
    "import pandas as pd\n",
    "import matplotlib.pyplot as plt\n",
    "import seaborn as sns"
   ]
  },
  {
   "cell_type": "code",
   "execution_count": 2,
   "id": "057b1a5a",
   "metadata": {},
   "outputs": [],
   "source": [
    "# Load the dataset (Cyclistic trips from the 1st quarter of 2019).\n",
    "df = pd.read_csv(r\"CyclisticData\\Divvy_Trips_2019_Q1.csv\")"
   ]
  },
  {
   "cell_type": "code",
   "execution_count": 3,
   "id": "4deef100",
   "metadata": {},
   "outputs": [
    {
     "name": "stdout",
     "output_type": "stream",
     "text": [
      "<class 'pandas.core.frame.DataFrame'>\n",
      "RangeIndex: 365069 entries, 0 to 365068\n",
      "Data columns (total 12 columns):\n",
      " #   Column             Non-Null Count   Dtype  \n",
      "---  ------             --------------   -----  \n",
      " 0   trip_id            365069 non-null  int64  \n",
      " 1   start_time         365069 non-null  object \n",
      " 2   end_time           365069 non-null  object \n",
      " 3   bikeid             365069 non-null  int64  \n",
      " 4   tripduration       365069 non-null  object \n",
      " 5   from_station_id    365069 non-null  int64  \n",
      " 6   from_station_name  365069 non-null  object \n",
      " 7   to_station_id      365069 non-null  int64  \n",
      " 8   to_station_name    365069 non-null  object \n",
      " 9   usertype           365069 non-null  object \n",
      " 10  gender             345358 non-null  object \n",
      " 11  birthyear          347046 non-null  float64\n",
      "dtypes: float64(1), int64(4), object(7)\n",
      "memory usage: 33.4+ MB\n"
     ]
    }
   ],
   "source": [
    "# First look on the the number of non-null values & the data types of each column\n",
    "df.info()"
   ]
  },
  {
   "cell_type": "code",
   "execution_count": 4,
   "id": "0bdf0cde",
   "metadata": {},
   "outputs": [
    {
     "data": {
      "text/html": [
       "<div>\n",
       "<style scoped>\n",
       "    .dataframe tbody tr th:only-of-type {\n",
       "        vertical-align: middle;\n",
       "    }\n",
       "\n",
       "    .dataframe tbody tr th {\n",
       "        vertical-align: top;\n",
       "    }\n",
       "\n",
       "    .dataframe thead th {\n",
       "        text-align: right;\n",
       "    }\n",
       "</style>\n",
       "<table border=\"1\" class=\"dataframe\">\n",
       "  <thead>\n",
       "    <tr style=\"text-align: right;\">\n",
       "      <th></th>\n",
       "      <th>trip_id</th>\n",
       "      <th>start_time</th>\n",
       "      <th>end_time</th>\n",
       "      <th>bikeid</th>\n",
       "      <th>tripduration</th>\n",
       "      <th>from_station_id</th>\n",
       "      <th>from_station_name</th>\n",
       "      <th>to_station_id</th>\n",
       "      <th>to_station_name</th>\n",
       "      <th>usertype</th>\n",
       "      <th>gender</th>\n",
       "      <th>birthyear</th>\n",
       "    </tr>\n",
       "  </thead>\n",
       "  <tbody>\n",
       "    <tr>\n",
       "      <th>0</th>\n",
       "      <td>21742443</td>\n",
       "      <td>2019-01-01 00:04:37</td>\n",
       "      <td>2019-01-01 00:11:07</td>\n",
       "      <td>2167</td>\n",
       "      <td>390.0</td>\n",
       "      <td>199</td>\n",
       "      <td>Wabash Ave &amp; Grand Ave</td>\n",
       "      <td>84</td>\n",
       "      <td>Milwaukee Ave &amp; Grand Ave</td>\n",
       "      <td>Subscriber</td>\n",
       "      <td>Male</td>\n",
       "      <td>1989.0</td>\n",
       "    </tr>\n",
       "    <tr>\n",
       "      <th>1</th>\n",
       "      <td>21742444</td>\n",
       "      <td>2019-01-01 00:08:13</td>\n",
       "      <td>2019-01-01 00:15:34</td>\n",
       "      <td>4386</td>\n",
       "      <td>441.0</td>\n",
       "      <td>44</td>\n",
       "      <td>State St &amp; Randolph St</td>\n",
       "      <td>624</td>\n",
       "      <td>Dearborn St &amp; Van Buren St (*)</td>\n",
       "      <td>Subscriber</td>\n",
       "      <td>Female</td>\n",
       "      <td>1990.0</td>\n",
       "    </tr>\n",
       "    <tr>\n",
       "      <th>2</th>\n",
       "      <td>21742445</td>\n",
       "      <td>2019-01-01 00:13:23</td>\n",
       "      <td>2019-01-01 00:27:12</td>\n",
       "      <td>1524</td>\n",
       "      <td>829.0</td>\n",
       "      <td>15</td>\n",
       "      <td>Racine Ave &amp; 18th St</td>\n",
       "      <td>644</td>\n",
       "      <td>Western Ave &amp; Fillmore St (*)</td>\n",
       "      <td>Subscriber</td>\n",
       "      <td>Female</td>\n",
       "      <td>1994.0</td>\n",
       "    </tr>\n",
       "    <tr>\n",
       "      <th>3</th>\n",
       "      <td>21742446</td>\n",
       "      <td>2019-01-01 00:13:45</td>\n",
       "      <td>2019-01-01 00:43:28</td>\n",
       "      <td>252</td>\n",
       "      <td>1,783.0</td>\n",
       "      <td>123</td>\n",
       "      <td>California Ave &amp; Milwaukee Ave</td>\n",
       "      <td>176</td>\n",
       "      <td>Clark St &amp; Elm St</td>\n",
       "      <td>Subscriber</td>\n",
       "      <td>Male</td>\n",
       "      <td>1993.0</td>\n",
       "    </tr>\n",
       "    <tr>\n",
       "      <th>4</th>\n",
       "      <td>21742447</td>\n",
       "      <td>2019-01-01 00:14:52</td>\n",
       "      <td>2019-01-01 00:20:56</td>\n",
       "      <td>1170</td>\n",
       "      <td>364.0</td>\n",
       "      <td>173</td>\n",
       "      <td>Mies van der Rohe Way &amp; Chicago Ave</td>\n",
       "      <td>35</td>\n",
       "      <td>Streeter Dr &amp; Grand Ave</td>\n",
       "      <td>Subscriber</td>\n",
       "      <td>Male</td>\n",
       "      <td>1994.0</td>\n",
       "    </tr>\n",
       "    <tr>\n",
       "      <th>5</th>\n",
       "      <td>21742448</td>\n",
       "      <td>2019-01-01 00:15:33</td>\n",
       "      <td>2019-01-01 00:19:09</td>\n",
       "      <td>2437</td>\n",
       "      <td>216.0</td>\n",
       "      <td>98</td>\n",
       "      <td>LaSalle St &amp; Washington St</td>\n",
       "      <td>49</td>\n",
       "      <td>Dearborn St &amp; Monroe St</td>\n",
       "      <td>Subscriber</td>\n",
       "      <td>Female</td>\n",
       "      <td>1983.0</td>\n",
       "    </tr>\n",
       "    <tr>\n",
       "      <th>6</th>\n",
       "      <td>21742449</td>\n",
       "      <td>2019-01-01 00:16:06</td>\n",
       "      <td>2019-01-01 00:19:03</td>\n",
       "      <td>2708</td>\n",
       "      <td>177.0</td>\n",
       "      <td>98</td>\n",
       "      <td>LaSalle St &amp; Washington St</td>\n",
       "      <td>49</td>\n",
       "      <td>Dearborn St &amp; Monroe St</td>\n",
       "      <td>Subscriber</td>\n",
       "      <td>Male</td>\n",
       "      <td>1984.0</td>\n",
       "    </tr>\n",
       "    <tr>\n",
       "      <th>7</th>\n",
       "      <td>21742450</td>\n",
       "      <td>2019-01-01 00:18:41</td>\n",
       "      <td>2019-01-01 00:20:21</td>\n",
       "      <td>2796</td>\n",
       "      <td>100.0</td>\n",
       "      <td>211</td>\n",
       "      <td>St. Clair St &amp; Erie St</td>\n",
       "      <td>142</td>\n",
       "      <td>McClurg Ct &amp; Erie St</td>\n",
       "      <td>Subscriber</td>\n",
       "      <td>Male</td>\n",
       "      <td>1990.0</td>\n",
       "    </tr>\n",
       "    <tr>\n",
       "      <th>8</th>\n",
       "      <td>21742451</td>\n",
       "      <td>2019-01-01 00:18:43</td>\n",
       "      <td>2019-01-01 00:47:30</td>\n",
       "      <td>6205</td>\n",
       "      <td>1,727.0</td>\n",
       "      <td>150</td>\n",
       "      <td>Fort Dearborn Dr &amp; 31st St</td>\n",
       "      <td>148</td>\n",
       "      <td>State St &amp; 33rd St</td>\n",
       "      <td>Subscriber</td>\n",
       "      <td>Male</td>\n",
       "      <td>1995.0</td>\n",
       "    </tr>\n",
       "    <tr>\n",
       "      <th>9</th>\n",
       "      <td>21742452</td>\n",
       "      <td>2019-01-01 00:19:18</td>\n",
       "      <td>2019-01-01 00:24:54</td>\n",
       "      <td>3939</td>\n",
       "      <td>336.0</td>\n",
       "      <td>268</td>\n",
       "      <td>Lake Shore Dr &amp; North Blvd</td>\n",
       "      <td>141</td>\n",
       "      <td>Clark St &amp; Lincoln Ave</td>\n",
       "      <td>Subscriber</td>\n",
       "      <td>Male</td>\n",
       "      <td>1996.0</td>\n",
       "    </tr>\n",
       "    <tr>\n",
       "      <th>10</th>\n",
       "      <td>21742453</td>\n",
       "      <td>2019-01-01 00:20:34</td>\n",
       "      <td>2019-01-01 00:35:20</td>\n",
       "      <td>6243</td>\n",
       "      <td>886.0</td>\n",
       "      <td>299</td>\n",
       "      <td>Halsted St &amp; Roscoe St</td>\n",
       "      <td>295</td>\n",
       "      <td>Broadway &amp; Argyle St</td>\n",
       "      <td>Subscriber</td>\n",
       "      <td>Male</td>\n",
       "      <td>1994.0</td>\n",
       "    </tr>\n",
       "    <tr>\n",
       "      <th>11</th>\n",
       "      <td>21742454</td>\n",
       "      <td>2019-01-01 00:21:52</td>\n",
       "      <td>2019-01-01 00:32:45</td>\n",
       "      <td>6300</td>\n",
       "      <td>653.0</td>\n",
       "      <td>204</td>\n",
       "      <td>Prairie Ave &amp; Garfield Blvd</td>\n",
       "      <td>420</td>\n",
       "      <td>Ellis Ave &amp; 55th St</td>\n",
       "      <td>Subscriber</td>\n",
       "      <td>Female</td>\n",
       "      <td>1994.0</td>\n",
       "    </tr>\n",
       "    <tr>\n",
       "      <th>12</th>\n",
       "      <td>21742455</td>\n",
       "      <td>2019-01-01 00:23:04</td>\n",
       "      <td>2019-01-01 00:33:05</td>\n",
       "      <td>3029</td>\n",
       "      <td>601.0</td>\n",
       "      <td>90</td>\n",
       "      <td>Millennium Park</td>\n",
       "      <td>255</td>\n",
       "      <td>Indiana Ave &amp; Roosevelt Rd</td>\n",
       "      <td>Subscriber</td>\n",
       "      <td>Male</td>\n",
       "      <td>1986.0</td>\n",
       "    </tr>\n",
       "    <tr>\n",
       "      <th>13</th>\n",
       "      <td>21742456</td>\n",
       "      <td>2019-01-01 00:23:43</td>\n",
       "      <td>2019-01-01 00:33:05</td>\n",
       "      <td>84</td>\n",
       "      <td>562.0</td>\n",
       "      <td>90</td>\n",
       "      <td>Millennium Park</td>\n",
       "      <td>255</td>\n",
       "      <td>Indiana Ave &amp; Roosevelt Rd</td>\n",
       "      <td>Customer</td>\n",
       "      <td>Female</td>\n",
       "      <td>1990.0</td>\n",
       "    </tr>\n",
       "    <tr>\n",
       "      <th>14</th>\n",
       "      <td>21742457</td>\n",
       "      <td>2019-01-01 00:23:54</td>\n",
       "      <td>2019-01-01 00:39:00</td>\n",
       "      <td>5019</td>\n",
       "      <td>906.0</td>\n",
       "      <td>289</td>\n",
       "      <td>Wells St &amp; Concord Ln</td>\n",
       "      <td>324</td>\n",
       "      <td>Stockton Dr &amp; Wrightwood Ave</td>\n",
       "      <td>Subscriber</td>\n",
       "      <td>Female</td>\n",
       "      <td>1989.0</td>\n",
       "    </tr>\n",
       "    <tr>\n",
       "      <th>15</th>\n",
       "      <td>21742458</td>\n",
       "      <td>2019-01-01 00:24:08</td>\n",
       "      <td>2019-01-01 00:39:00</td>\n",
       "      <td>5526</td>\n",
       "      <td>892.0</td>\n",
       "      <td>289</td>\n",
       "      <td>Wells St &amp; Concord Ln</td>\n",
       "      <td>324</td>\n",
       "      <td>Stockton Dr &amp; Wrightwood Ave</td>\n",
       "      <td>Subscriber</td>\n",
       "      <td>Female</td>\n",
       "      <td>1989.0</td>\n",
       "    </tr>\n",
       "    <tr>\n",
       "      <th>16</th>\n",
       "      <td>21742459</td>\n",
       "      <td>2019-01-01 00:24:13</td>\n",
       "      <td>2019-01-01 00:31:00</td>\n",
       "      <td>3373</td>\n",
       "      <td>407.0</td>\n",
       "      <td>152</td>\n",
       "      <td>Lincoln Ave &amp; Diversey Pkwy</td>\n",
       "      <td>166</td>\n",
       "      <td>Ashland Ave &amp; Wrightwood Ave</td>\n",
       "      <td>Subscriber</td>\n",
       "      <td>Male</td>\n",
       "      <td>1967.0</td>\n",
       "    </tr>\n",
       "    <tr>\n",
       "      <th>17</th>\n",
       "      <td>21742460</td>\n",
       "      <td>2019-01-01 00:24:27</td>\n",
       "      <td>2019-01-01 00:47:03</td>\n",
       "      <td>5777</td>\n",
       "      <td>1,356.0</td>\n",
       "      <td>268</td>\n",
       "      <td>Lake Shore Dr &amp; North Blvd</td>\n",
       "      <td>319</td>\n",
       "      <td>Greenview Ave &amp; Diversey Pkwy</td>\n",
       "      <td>Customer</td>\n",
       "      <td>Female</td>\n",
       "      <td>1990.0</td>\n",
       "    </tr>\n",
       "    <tr>\n",
       "      <th>18</th>\n",
       "      <td>21742461</td>\n",
       "      <td>2019-01-01 00:25:28</td>\n",
       "      <td>2019-01-01 00:27:10</td>\n",
       "      <td>3940</td>\n",
       "      <td>102.0</td>\n",
       "      <td>35</td>\n",
       "      <td>Streeter Dr &amp; Grand Ave</td>\n",
       "      <td>35</td>\n",
       "      <td>Streeter Dr &amp; Grand Ave</td>\n",
       "      <td>Subscriber</td>\n",
       "      <td>Male</td>\n",
       "      <td>1985.0</td>\n",
       "    </tr>\n",
       "    <tr>\n",
       "      <th>19</th>\n",
       "      <td>21742463</td>\n",
       "      <td>2019-01-01 00:29:19</td>\n",
       "      <td>2019-01-01 01:08:12</td>\n",
       "      <td>3914</td>\n",
       "      <td>2,333.0</td>\n",
       "      <td>35</td>\n",
       "      <td>Streeter Dr &amp; Grand Ave</td>\n",
       "      <td>39</td>\n",
       "      <td>Wabash Ave &amp; Adams St</td>\n",
       "      <td>Customer</td>\n",
       "      <td>NaN</td>\n",
       "      <td>NaN</td>\n",
       "    </tr>\n",
       "    <tr>\n",
       "      <th>20</th>\n",
       "      <td>21742464</td>\n",
       "      <td>2019-01-01 00:29:21</td>\n",
       "      <td>2019-01-01 00:45:21</td>\n",
       "      <td>140</td>\n",
       "      <td>960.0</td>\n",
       "      <td>47</td>\n",
       "      <td>State St &amp; Kinzie St</td>\n",
       "      <td>111</td>\n",
       "      <td>Sedgwick St &amp; Huron St</td>\n",
       "      <td>Subscriber</td>\n",
       "      <td>Male</td>\n",
       "      <td>1957.0</td>\n",
       "    </tr>\n",
       "    <tr>\n",
       "      <th>21</th>\n",
       "      <td>21742465</td>\n",
       "      <td>2019-01-01 00:29:28</td>\n",
       "      <td>2019-01-01 01:07:49</td>\n",
       "      <td>3355</td>\n",
       "      <td>2,301.0</td>\n",
       "      <td>35</td>\n",
       "      <td>Streeter Dr &amp; Grand Ave</td>\n",
       "      <td>39</td>\n",
       "      <td>Wabash Ave &amp; Adams St</td>\n",
       "      <td>Customer</td>\n",
       "      <td>NaN</td>\n",
       "      <td>NaN</td>\n",
       "    </tr>\n",
       "    <tr>\n",
       "      <th>22</th>\n",
       "      <td>21742466</td>\n",
       "      <td>2019-01-01 00:29:47</td>\n",
       "      <td>2019-01-01 00:49:15</td>\n",
       "      <td>5026</td>\n",
       "      <td>1,168.0</td>\n",
       "      <td>85</td>\n",
       "      <td>Michigan Ave &amp; Oak St</td>\n",
       "      <td>329</td>\n",
       "      <td>Lake Shore Dr &amp; Diversey Pkwy</td>\n",
       "      <td>Subscriber</td>\n",
       "      <td>Male</td>\n",
       "      <td>1959.0</td>\n",
       "    </tr>\n",
       "    <tr>\n",
       "      <th>23</th>\n",
       "      <td>21742467</td>\n",
       "      <td>2019-01-01 00:30:48</td>\n",
       "      <td>2019-01-01 00:38:42</td>\n",
       "      <td>1998</td>\n",
       "      <td>474.0</td>\n",
       "      <td>289</td>\n",
       "      <td>Wells St &amp; Concord Ln</td>\n",
       "      <td>313</td>\n",
       "      <td>Lakeview Ave &amp; Fullerton Pkwy</td>\n",
       "      <td>Subscriber</td>\n",
       "      <td>Male</td>\n",
       "      <td>1994.0</td>\n",
       "    </tr>\n",
       "    <tr>\n",
       "      <th>24</th>\n",
       "      <td>21742468</td>\n",
       "      <td>2019-01-01 00:33:09</td>\n",
       "      <td>2019-01-01 00:50:25</td>\n",
       "      <td>2630</td>\n",
       "      <td>1,036.0</td>\n",
       "      <td>13</td>\n",
       "      <td>Wilton Ave &amp; Diversey Pkwy</td>\n",
       "      <td>61</td>\n",
       "      <td>Wood St &amp; Milwaukee Ave</td>\n",
       "      <td>Subscriber</td>\n",
       "      <td>Male</td>\n",
       "      <td>1991.0</td>\n",
       "    </tr>\n",
       "    <tr>\n",
       "      <th>25</th>\n",
       "      <td>21742469</td>\n",
       "      <td>2019-01-01 00:34:35</td>\n",
       "      <td>2019-01-01 00:38:25</td>\n",
       "      <td>3722</td>\n",
       "      <td>230.0</td>\n",
       "      <td>520</td>\n",
       "      <td>Greenview Ave &amp; Jarvis Ave</td>\n",
       "      <td>523</td>\n",
       "      <td>Eastlake Ter &amp; Rogers Ave</td>\n",
       "      <td>Subscriber</td>\n",
       "      <td>Male</td>\n",
       "      <td>1961.0</td>\n",
       "    </tr>\n",
       "    <tr>\n",
       "      <th>26</th>\n",
       "      <td>21742471</td>\n",
       "      <td>2019-01-01 00:38:11</td>\n",
       "      <td>2019-01-01 00:50:38</td>\n",
       "      <td>1166</td>\n",
       "      <td>747.0</td>\n",
       "      <td>256</td>\n",
       "      <td>Broadway &amp; Sheridan Rd</td>\n",
       "      <td>297</td>\n",
       "      <td>Paulina St &amp; Montrose Ave</td>\n",
       "      <td>Subscriber</td>\n",
       "      <td>Male</td>\n",
       "      <td>1968.0</td>\n",
       "    </tr>\n",
       "    <tr>\n",
       "      <th>27</th>\n",
       "      <td>21742472</td>\n",
       "      <td>2019-01-01 00:38:47</td>\n",
       "      <td>2019-01-01 00:50:38</td>\n",
       "      <td>1704</td>\n",
       "      <td>711.0</td>\n",
       "      <td>256</td>\n",
       "      <td>Broadway &amp; Sheridan Rd</td>\n",
       "      <td>297</td>\n",
       "      <td>Paulina St &amp; Montrose Ave</td>\n",
       "      <td>Subscriber</td>\n",
       "      <td>Male</td>\n",
       "      <td>1964.0</td>\n",
       "    </tr>\n",
       "    <tr>\n",
       "      <th>28</th>\n",
       "      <td>21742473</td>\n",
       "      <td>2019-01-01 00:40:16</td>\n",
       "      <td>2019-01-01 00:49:29</td>\n",
       "      <td>1476</td>\n",
       "      <td>553.0</td>\n",
       "      <td>254</td>\n",
       "      <td>Pine Grove Ave &amp; Irving Park Rd</td>\n",
       "      <td>465</td>\n",
       "      <td>Marine Dr &amp; Ainslie St</td>\n",
       "      <td>Subscriber</td>\n",
       "      <td>Male</td>\n",
       "      <td>1990.0</td>\n",
       "    </tr>\n",
       "    <tr>\n",
       "      <th>29</th>\n",
       "      <td>21742474</td>\n",
       "      <td>2019-01-01 00:41:46</td>\n",
       "      <td>2019-01-01 00:50:27</td>\n",
       "      <td>4614</td>\n",
       "      <td>521.0</td>\n",
       "      <td>66</td>\n",
       "      <td>Clinton St &amp; Lake St</td>\n",
       "      <td>52</td>\n",
       "      <td>Michigan Ave &amp; Lake St</td>\n",
       "      <td>Subscriber</td>\n",
       "      <td>Male</td>\n",
       "      <td>1994.0</td>\n",
       "    </tr>\n",
       "    <tr>\n",
       "      <th>30</th>\n",
       "      <td>21742475</td>\n",
       "      <td>2019-01-01 00:45:37</td>\n",
       "      <td>2019-01-01 01:17:51</td>\n",
       "      <td>5583</td>\n",
       "      <td>1,934.0</td>\n",
       "      <td>464</td>\n",
       "      <td>Damen Ave &amp; Foster Ave</td>\n",
       "      <td>30</td>\n",
       "      <td>Ashland Ave &amp; Augusta Blvd</td>\n",
       "      <td>Subscriber</td>\n",
       "      <td>Male</td>\n",
       "      <td>1991.0</td>\n",
       "    </tr>\n",
       "    <tr>\n",
       "      <th>31</th>\n",
       "      <td>21742476</td>\n",
       "      <td>2019-01-01 00:45:45</td>\n",
       "      <td>2019-01-01 00:50:00</td>\n",
       "      <td>1158</td>\n",
       "      <td>255.0</td>\n",
       "      <td>418</td>\n",
       "      <td>Ellis Ave &amp; 53rd St</td>\n",
       "      <td>121</td>\n",
       "      <td>Blackstone Ave &amp; Hyde Park Blvd</td>\n",
       "      <td>Subscriber</td>\n",
       "      <td>Male</td>\n",
       "      <td>1988.0</td>\n",
       "    </tr>\n",
       "    <tr>\n",
       "      <th>32</th>\n",
       "      <td>21742477</td>\n",
       "      <td>2019-01-01 00:46:19</td>\n",
       "      <td>2019-01-01 00:51:26</td>\n",
       "      <td>2314</td>\n",
       "      <td>307.0</td>\n",
       "      <td>144</td>\n",
       "      <td>Larrabee St &amp; Webster Ave</td>\n",
       "      <td>313</td>\n",
       "      <td>Lakeview Ave &amp; Fullerton Pkwy</td>\n",
       "      <td>Subscriber</td>\n",
       "      <td>Female</td>\n",
       "      <td>1961.0</td>\n",
       "    </tr>\n",
       "    <tr>\n",
       "      <th>33</th>\n",
       "      <td>21742478</td>\n",
       "      <td>2019-01-01 00:47:49</td>\n",
       "      <td>2019-01-01 00:54:56</td>\n",
       "      <td>1411</td>\n",
       "      <td>427.0</td>\n",
       "      <td>253</td>\n",
       "      <td>Winthrop Ave &amp; Lawrence Ave</td>\n",
       "      <td>463</td>\n",
       "      <td>Clark St &amp; Berwyn Ave</td>\n",
       "      <td>Subscriber</td>\n",
       "      <td>Male</td>\n",
       "      <td>1984.0</td>\n",
       "    </tr>\n",
       "    <tr>\n",
       "      <th>34</th>\n",
       "      <td>21742479</td>\n",
       "      <td>2019-01-01 00:48:44</td>\n",
       "      <td>2019-01-01 00:59:39</td>\n",
       "      <td>6336</td>\n",
       "      <td>655.0</td>\n",
       "      <td>304</td>\n",
       "      <td>Broadway &amp; Waveland Ave</td>\n",
       "      <td>332</td>\n",
       "      <td>Burling St (Halsted) &amp; Diversey Pkwy (Temp)</td>\n",
       "      <td>Subscriber</td>\n",
       "      <td>Male</td>\n",
       "      <td>1988.0</td>\n",
       "    </tr>\n",
       "    <tr>\n",
       "      <th>35</th>\n",
       "      <td>21742480</td>\n",
       "      <td>2019-01-01 00:51:55</td>\n",
       "      <td>2019-01-01 00:54:49</td>\n",
       "      <td>5629</td>\n",
       "      <td>174.0</td>\n",
       "      <td>206</td>\n",
       "      <td>Halsted St &amp; Archer Ave</td>\n",
       "      <td>135</td>\n",
       "      <td>Halsted St &amp; 21st St</td>\n",
       "      <td>Subscriber</td>\n",
       "      <td>Male</td>\n",
       "      <td>1989.0</td>\n",
       "    </tr>\n",
       "    <tr>\n",
       "      <th>36</th>\n",
       "      <td>21742481</td>\n",
       "      <td>2019-01-01 00:55:35</td>\n",
       "      <td>2019-01-01 00:57:35</td>\n",
       "      <td>5248</td>\n",
       "      <td>120.0</td>\n",
       "      <td>522</td>\n",
       "      <td>Bosworth Ave &amp; Howard St</td>\n",
       "      <td>520</td>\n",
       "      <td>Greenview Ave &amp; Jarvis Ave</td>\n",
       "      <td>Subscriber</td>\n",
       "      <td>Male</td>\n",
       "      <td>1976.0</td>\n",
       "    </tr>\n",
       "    <tr>\n",
       "      <th>37</th>\n",
       "      <td>21742483</td>\n",
       "      <td>2019-01-01 00:58:09</td>\n",
       "      <td>2019-01-01 01:15:33</td>\n",
       "      <td>5875</td>\n",
       "      <td>1,044.0</td>\n",
       "      <td>144</td>\n",
       "      <td>Larrabee St &amp; Webster Ave</td>\n",
       "      <td>185</td>\n",
       "      <td>Stave St &amp; Armitage Ave</td>\n",
       "      <td>Subscriber</td>\n",
       "      <td>Male</td>\n",
       "      <td>1989.0</td>\n",
       "    </tr>\n",
       "    <tr>\n",
       "      <th>38</th>\n",
       "      <td>21742484</td>\n",
       "      <td>2019-01-01 00:58:33</td>\n",
       "      <td>2019-01-01 01:05:17</td>\n",
       "      <td>6312</td>\n",
       "      <td>404.0</td>\n",
       "      <td>193</td>\n",
       "      <td>State St &amp; 29th St</td>\n",
       "      <td>120</td>\n",
       "      <td>Wentworth Ave &amp; Cermak Rd (Temp)</td>\n",
       "      <td>Subscriber</td>\n",
       "      <td>Male</td>\n",
       "      <td>1992.0</td>\n",
       "    </tr>\n",
       "    <tr>\n",
       "      <th>39</th>\n",
       "      <td>21742485</td>\n",
       "      <td>2019-01-01 00:58:44</td>\n",
       "      <td>2019-01-01 01:07:45</td>\n",
       "      <td>781</td>\n",
       "      <td>541.0</td>\n",
       "      <td>260</td>\n",
       "      <td>Kedzie Ave &amp; Milwaukee Ave</td>\n",
       "      <td>507</td>\n",
       "      <td>Humboldt Blvd &amp; Armitage Ave</td>\n",
       "      <td>Subscriber</td>\n",
       "      <td>Male</td>\n",
       "      <td>1988.0</td>\n",
       "    </tr>\n",
       "    <tr>\n",
       "      <th>40</th>\n",
       "      <td>21742486</td>\n",
       "      <td>2019-01-01 00:58:55</td>\n",
       "      <td>2019-01-01 01:07:50</td>\n",
       "      <td>2448</td>\n",
       "      <td>535.0</td>\n",
       "      <td>260</td>\n",
       "      <td>Kedzie Ave &amp; Milwaukee Ave</td>\n",
       "      <td>507</td>\n",
       "      <td>Humboldt Blvd &amp; Armitage Ave</td>\n",
       "      <td>Subscriber</td>\n",
       "      <td>Female</td>\n",
       "      <td>1988.0</td>\n",
       "    </tr>\n",
       "    <tr>\n",
       "      <th>41</th>\n",
       "      <td>21742487</td>\n",
       "      <td>2019-01-01 01:02:54</td>\n",
       "      <td>2019-01-01 01:22:01</td>\n",
       "      <td>368</td>\n",
       "      <td>1,147.0</td>\n",
       "      <td>636</td>\n",
       "      <td>Orleans St &amp; Hubbard St (*)</td>\n",
       "      <td>214</td>\n",
       "      <td>Damen Ave &amp; Grand Ave</td>\n",
       "      <td>Customer</td>\n",
       "      <td>Male</td>\n",
       "      <td>1988.0</td>\n",
       "    </tr>\n",
       "    <tr>\n",
       "      <th>42</th>\n",
       "      <td>21742488</td>\n",
       "      <td>2019-01-01 01:03:57</td>\n",
       "      <td>2019-01-01 01:08:35</td>\n",
       "      <td>1170</td>\n",
       "      <td>278.0</td>\n",
       "      <td>35</td>\n",
       "      <td>Streeter Dr &amp; Grand Ave</td>\n",
       "      <td>173</td>\n",
       "      <td>Mies van der Rohe Way &amp; Chicago Ave</td>\n",
       "      <td>Subscriber</td>\n",
       "      <td>Male</td>\n",
       "      <td>1994.0</td>\n",
       "    </tr>\n",
       "    <tr>\n",
       "      <th>43</th>\n",
       "      <td>21742489</td>\n",
       "      <td>2019-01-01 01:04:24</td>\n",
       "      <td>2019-01-01 01:19:33</td>\n",
       "      <td>297</td>\n",
       "      <td>909.0</td>\n",
       "      <td>240</td>\n",
       "      <td>Sheridan Rd &amp; Irving Park Rd</td>\n",
       "      <td>465</td>\n",
       "      <td>Marine Dr &amp; Ainslie St</td>\n",
       "      <td>Subscriber</td>\n",
       "      <td>Male</td>\n",
       "      <td>1993.0</td>\n",
       "    </tr>\n",
       "    <tr>\n",
       "      <th>44</th>\n",
       "      <td>21742490</td>\n",
       "      <td>2019-01-01 01:04:29</td>\n",
       "      <td>2019-01-01 01:10:52</td>\n",
       "      <td>1998</td>\n",
       "      <td>383.0</td>\n",
       "      <td>313</td>\n",
       "      <td>Lakeview Ave &amp; Fullerton Pkwy</td>\n",
       "      <td>127</td>\n",
       "      <td>Lincoln Ave &amp; Fullerton Ave</td>\n",
       "      <td>Subscriber</td>\n",
       "      <td>Female</td>\n",
       "      <td>1993.0</td>\n",
       "    </tr>\n",
       "    <tr>\n",
       "      <th>45</th>\n",
       "      <td>21742491</td>\n",
       "      <td>2019-01-01 01:04:33</td>\n",
       "      <td>2019-01-01 01:22:12</td>\n",
       "      <td>3942</td>\n",
       "      <td>1,059.0</td>\n",
       "      <td>636</td>\n",
       "      <td>Orleans St &amp; Hubbard St (*)</td>\n",
       "      <td>214</td>\n",
       "      <td>Damen Ave &amp; Grand Ave</td>\n",
       "      <td>Customer</td>\n",
       "      <td>Female</td>\n",
       "      <td>1989.0</td>\n",
       "    </tr>\n",
       "    <tr>\n",
       "      <th>46</th>\n",
       "      <td>21742492</td>\n",
       "      <td>2019-01-01 01:06:14</td>\n",
       "      <td>2019-01-01 01:19:47</td>\n",
       "      <td>1018</td>\n",
       "      <td>813.0</td>\n",
       "      <td>240</td>\n",
       "      <td>Sheridan Rd &amp; Irving Park Rd</td>\n",
       "      <td>465</td>\n",
       "      <td>Marine Dr &amp; Ainslie St</td>\n",
       "      <td>Subscriber</td>\n",
       "      <td>Female</td>\n",
       "      <td>1991.0</td>\n",
       "    </tr>\n",
       "    <tr>\n",
       "      <th>47</th>\n",
       "      <td>21742493</td>\n",
       "      <td>2019-01-01 01:09:04</td>\n",
       "      <td>2019-01-01 01:16:50</td>\n",
       "      <td>3183</td>\n",
       "      <td>466.0</td>\n",
       "      <td>253</td>\n",
       "      <td>Winthrop Ave &amp; Lawrence Ave</td>\n",
       "      <td>344</td>\n",
       "      <td>Ravenswood Ave &amp; Lawrence Ave</td>\n",
       "      <td>Subscriber</td>\n",
       "      <td>Male</td>\n",
       "      <td>1988.0</td>\n",
       "    </tr>\n",
       "    <tr>\n",
       "      <th>48</th>\n",
       "      <td>21742494</td>\n",
       "      <td>2019-01-01 01:10:48</td>\n",
       "      <td>2019-01-01 01:32:28</td>\n",
       "      <td>2517</td>\n",
       "      <td>1,300.0</td>\n",
       "      <td>290</td>\n",
       "      <td>Kedzie Ave &amp; Palmer Ct</td>\n",
       "      <td>476</td>\n",
       "      <td>Kedzie Ave &amp; Leland Ave</td>\n",
       "      <td>Customer</td>\n",
       "      <td>NaN</td>\n",
       "      <td>NaN</td>\n",
       "    </tr>\n",
       "    <tr>\n",
       "      <th>49</th>\n",
       "      <td>21742495</td>\n",
       "      <td>2019-01-01 01:12:42</td>\n",
       "      <td>2019-01-01 01:20:55</td>\n",
       "      <td>166</td>\n",
       "      <td>493.0</td>\n",
       "      <td>460</td>\n",
       "      <td>Clark St &amp; Bryn Mawr Ave</td>\n",
       "      <td>457</td>\n",
       "      <td>Clark St &amp; Elmdale Ave</td>\n",
       "      <td>Subscriber</td>\n",
       "      <td>Male</td>\n",
       "      <td>1988.0</td>\n",
       "    </tr>\n",
       "  </tbody>\n",
       "</table>\n",
       "</div>"
      ],
      "text/plain": [
       "     trip_id           start_time             end_time  bikeid tripduration  \\\n",
       "0   21742443  2019-01-01 00:04:37  2019-01-01 00:11:07    2167        390.0   \n",
       "1   21742444  2019-01-01 00:08:13  2019-01-01 00:15:34    4386        441.0   \n",
       "2   21742445  2019-01-01 00:13:23  2019-01-01 00:27:12    1524        829.0   \n",
       "3   21742446  2019-01-01 00:13:45  2019-01-01 00:43:28     252      1,783.0   \n",
       "4   21742447  2019-01-01 00:14:52  2019-01-01 00:20:56    1170        364.0   \n",
       "5   21742448  2019-01-01 00:15:33  2019-01-01 00:19:09    2437        216.0   \n",
       "6   21742449  2019-01-01 00:16:06  2019-01-01 00:19:03    2708        177.0   \n",
       "7   21742450  2019-01-01 00:18:41  2019-01-01 00:20:21    2796        100.0   \n",
       "8   21742451  2019-01-01 00:18:43  2019-01-01 00:47:30    6205      1,727.0   \n",
       "9   21742452  2019-01-01 00:19:18  2019-01-01 00:24:54    3939        336.0   \n",
       "10  21742453  2019-01-01 00:20:34  2019-01-01 00:35:20    6243        886.0   \n",
       "11  21742454  2019-01-01 00:21:52  2019-01-01 00:32:45    6300        653.0   \n",
       "12  21742455  2019-01-01 00:23:04  2019-01-01 00:33:05    3029        601.0   \n",
       "13  21742456  2019-01-01 00:23:43  2019-01-01 00:33:05      84        562.0   \n",
       "14  21742457  2019-01-01 00:23:54  2019-01-01 00:39:00    5019        906.0   \n",
       "15  21742458  2019-01-01 00:24:08  2019-01-01 00:39:00    5526        892.0   \n",
       "16  21742459  2019-01-01 00:24:13  2019-01-01 00:31:00    3373        407.0   \n",
       "17  21742460  2019-01-01 00:24:27  2019-01-01 00:47:03    5777      1,356.0   \n",
       "18  21742461  2019-01-01 00:25:28  2019-01-01 00:27:10    3940        102.0   \n",
       "19  21742463  2019-01-01 00:29:19  2019-01-01 01:08:12    3914      2,333.0   \n",
       "20  21742464  2019-01-01 00:29:21  2019-01-01 00:45:21     140        960.0   \n",
       "21  21742465  2019-01-01 00:29:28  2019-01-01 01:07:49    3355      2,301.0   \n",
       "22  21742466  2019-01-01 00:29:47  2019-01-01 00:49:15    5026      1,168.0   \n",
       "23  21742467  2019-01-01 00:30:48  2019-01-01 00:38:42    1998        474.0   \n",
       "24  21742468  2019-01-01 00:33:09  2019-01-01 00:50:25    2630      1,036.0   \n",
       "25  21742469  2019-01-01 00:34:35  2019-01-01 00:38:25    3722        230.0   \n",
       "26  21742471  2019-01-01 00:38:11  2019-01-01 00:50:38    1166        747.0   \n",
       "27  21742472  2019-01-01 00:38:47  2019-01-01 00:50:38    1704        711.0   \n",
       "28  21742473  2019-01-01 00:40:16  2019-01-01 00:49:29    1476        553.0   \n",
       "29  21742474  2019-01-01 00:41:46  2019-01-01 00:50:27    4614        521.0   \n",
       "30  21742475  2019-01-01 00:45:37  2019-01-01 01:17:51    5583      1,934.0   \n",
       "31  21742476  2019-01-01 00:45:45  2019-01-01 00:50:00    1158        255.0   \n",
       "32  21742477  2019-01-01 00:46:19  2019-01-01 00:51:26    2314        307.0   \n",
       "33  21742478  2019-01-01 00:47:49  2019-01-01 00:54:56    1411        427.0   \n",
       "34  21742479  2019-01-01 00:48:44  2019-01-01 00:59:39    6336        655.0   \n",
       "35  21742480  2019-01-01 00:51:55  2019-01-01 00:54:49    5629        174.0   \n",
       "36  21742481  2019-01-01 00:55:35  2019-01-01 00:57:35    5248        120.0   \n",
       "37  21742483  2019-01-01 00:58:09  2019-01-01 01:15:33    5875      1,044.0   \n",
       "38  21742484  2019-01-01 00:58:33  2019-01-01 01:05:17    6312        404.0   \n",
       "39  21742485  2019-01-01 00:58:44  2019-01-01 01:07:45     781        541.0   \n",
       "40  21742486  2019-01-01 00:58:55  2019-01-01 01:07:50    2448        535.0   \n",
       "41  21742487  2019-01-01 01:02:54  2019-01-01 01:22:01     368      1,147.0   \n",
       "42  21742488  2019-01-01 01:03:57  2019-01-01 01:08:35    1170        278.0   \n",
       "43  21742489  2019-01-01 01:04:24  2019-01-01 01:19:33     297        909.0   \n",
       "44  21742490  2019-01-01 01:04:29  2019-01-01 01:10:52    1998        383.0   \n",
       "45  21742491  2019-01-01 01:04:33  2019-01-01 01:22:12    3942      1,059.0   \n",
       "46  21742492  2019-01-01 01:06:14  2019-01-01 01:19:47    1018        813.0   \n",
       "47  21742493  2019-01-01 01:09:04  2019-01-01 01:16:50    3183        466.0   \n",
       "48  21742494  2019-01-01 01:10:48  2019-01-01 01:32:28    2517      1,300.0   \n",
       "49  21742495  2019-01-01 01:12:42  2019-01-01 01:20:55     166        493.0   \n",
       "\n",
       "    from_station_id                    from_station_name  to_station_id  \\\n",
       "0               199               Wabash Ave & Grand Ave             84   \n",
       "1                44               State St & Randolph St            624   \n",
       "2                15                 Racine Ave & 18th St            644   \n",
       "3               123       California Ave & Milwaukee Ave            176   \n",
       "4               173  Mies van der Rohe Way & Chicago Ave             35   \n",
       "5                98           LaSalle St & Washington St             49   \n",
       "6                98           LaSalle St & Washington St             49   \n",
       "7               211               St. Clair St & Erie St            142   \n",
       "8               150           Fort Dearborn Dr & 31st St            148   \n",
       "9               268           Lake Shore Dr & North Blvd            141   \n",
       "10              299               Halsted St & Roscoe St            295   \n",
       "11              204          Prairie Ave & Garfield Blvd            420   \n",
       "12               90                      Millennium Park            255   \n",
       "13               90                      Millennium Park            255   \n",
       "14              289                Wells St & Concord Ln            324   \n",
       "15              289                Wells St & Concord Ln            324   \n",
       "16              152          Lincoln Ave & Diversey Pkwy            166   \n",
       "17              268           Lake Shore Dr & North Blvd            319   \n",
       "18               35              Streeter Dr & Grand Ave             35   \n",
       "19               35              Streeter Dr & Grand Ave             39   \n",
       "20               47                 State St & Kinzie St            111   \n",
       "21               35              Streeter Dr & Grand Ave             39   \n",
       "22               85                Michigan Ave & Oak St            329   \n",
       "23              289                Wells St & Concord Ln            313   \n",
       "24               13           Wilton Ave & Diversey Pkwy             61   \n",
       "25              520           Greenview Ave & Jarvis Ave            523   \n",
       "26              256               Broadway & Sheridan Rd            297   \n",
       "27              256               Broadway & Sheridan Rd            297   \n",
       "28              254      Pine Grove Ave & Irving Park Rd            465   \n",
       "29               66                 Clinton St & Lake St             52   \n",
       "30              464               Damen Ave & Foster Ave             30   \n",
       "31              418                  Ellis Ave & 53rd St            121   \n",
       "32              144            Larrabee St & Webster Ave            313   \n",
       "33              253          Winthrop Ave & Lawrence Ave            463   \n",
       "34              304              Broadway & Waveland Ave            332   \n",
       "35              206              Halsted St & Archer Ave            135   \n",
       "36              522             Bosworth Ave & Howard St            520   \n",
       "37              144            Larrabee St & Webster Ave            185   \n",
       "38              193                   State St & 29th St            120   \n",
       "39              260           Kedzie Ave & Milwaukee Ave            507   \n",
       "40              260           Kedzie Ave & Milwaukee Ave            507   \n",
       "41              636          Orleans St & Hubbard St (*)            214   \n",
       "42               35              Streeter Dr & Grand Ave            173   \n",
       "43              240         Sheridan Rd & Irving Park Rd            465   \n",
       "44              313        Lakeview Ave & Fullerton Pkwy            127   \n",
       "45              636          Orleans St & Hubbard St (*)            214   \n",
       "46              240         Sheridan Rd & Irving Park Rd            465   \n",
       "47              253          Winthrop Ave & Lawrence Ave            344   \n",
       "48              290               Kedzie Ave & Palmer Ct            476   \n",
       "49              460             Clark St & Bryn Mawr Ave            457   \n",
       "\n",
       "                                to_station_name    usertype  gender  birthyear  \n",
       "0                     Milwaukee Ave & Grand Ave  Subscriber    Male     1989.0  \n",
       "1                Dearborn St & Van Buren St (*)  Subscriber  Female     1990.0  \n",
       "2                 Western Ave & Fillmore St (*)  Subscriber  Female     1994.0  \n",
       "3                             Clark St & Elm St  Subscriber    Male     1993.0  \n",
       "4                       Streeter Dr & Grand Ave  Subscriber    Male     1994.0  \n",
       "5                       Dearborn St & Monroe St  Subscriber  Female     1983.0  \n",
       "6                       Dearborn St & Monroe St  Subscriber    Male     1984.0  \n",
       "7                          McClurg Ct & Erie St  Subscriber    Male     1990.0  \n",
       "8                            State St & 33rd St  Subscriber    Male     1995.0  \n",
       "9                        Clark St & Lincoln Ave  Subscriber    Male     1996.0  \n",
       "10                         Broadway & Argyle St  Subscriber    Male     1994.0  \n",
       "11                          Ellis Ave & 55th St  Subscriber  Female     1994.0  \n",
       "12                   Indiana Ave & Roosevelt Rd  Subscriber    Male     1986.0  \n",
       "13                   Indiana Ave & Roosevelt Rd    Customer  Female     1990.0  \n",
       "14                 Stockton Dr & Wrightwood Ave  Subscriber  Female     1989.0  \n",
       "15                 Stockton Dr & Wrightwood Ave  Subscriber  Female     1989.0  \n",
       "16                 Ashland Ave & Wrightwood Ave  Subscriber    Male     1967.0  \n",
       "17                Greenview Ave & Diversey Pkwy    Customer  Female     1990.0  \n",
       "18                      Streeter Dr & Grand Ave  Subscriber    Male     1985.0  \n",
       "19                        Wabash Ave & Adams St    Customer     NaN        NaN  \n",
       "20                       Sedgwick St & Huron St  Subscriber    Male     1957.0  \n",
       "21                        Wabash Ave & Adams St    Customer     NaN        NaN  \n",
       "22                Lake Shore Dr & Diversey Pkwy  Subscriber    Male     1959.0  \n",
       "23                Lakeview Ave & Fullerton Pkwy  Subscriber    Male     1994.0  \n",
       "24                      Wood St & Milwaukee Ave  Subscriber    Male     1991.0  \n",
       "25                    Eastlake Ter & Rogers Ave  Subscriber    Male     1961.0  \n",
       "26                    Paulina St & Montrose Ave  Subscriber    Male     1968.0  \n",
       "27                    Paulina St & Montrose Ave  Subscriber    Male     1964.0  \n",
       "28                       Marine Dr & Ainslie St  Subscriber    Male     1990.0  \n",
       "29                       Michigan Ave & Lake St  Subscriber    Male     1994.0  \n",
       "30                   Ashland Ave & Augusta Blvd  Subscriber    Male     1991.0  \n",
       "31              Blackstone Ave & Hyde Park Blvd  Subscriber    Male     1988.0  \n",
       "32                Lakeview Ave & Fullerton Pkwy  Subscriber  Female     1961.0  \n",
       "33                        Clark St & Berwyn Ave  Subscriber    Male     1984.0  \n",
       "34  Burling St (Halsted) & Diversey Pkwy (Temp)  Subscriber    Male     1988.0  \n",
       "35                         Halsted St & 21st St  Subscriber    Male     1989.0  \n",
       "36                   Greenview Ave & Jarvis Ave  Subscriber    Male     1976.0  \n",
       "37                      Stave St & Armitage Ave  Subscriber    Male     1989.0  \n",
       "38             Wentworth Ave & Cermak Rd (Temp)  Subscriber    Male     1992.0  \n",
       "39                 Humboldt Blvd & Armitage Ave  Subscriber    Male     1988.0  \n",
       "40                 Humboldt Blvd & Armitage Ave  Subscriber  Female     1988.0  \n",
       "41                        Damen Ave & Grand Ave    Customer    Male     1988.0  \n",
       "42          Mies van der Rohe Way & Chicago Ave  Subscriber    Male     1994.0  \n",
       "43                       Marine Dr & Ainslie St  Subscriber    Male     1993.0  \n",
       "44                  Lincoln Ave & Fullerton Ave  Subscriber  Female     1993.0  \n",
       "45                        Damen Ave & Grand Ave    Customer  Female     1989.0  \n",
       "46                       Marine Dr & Ainslie St  Subscriber  Female     1991.0  \n",
       "47                Ravenswood Ave & Lawrence Ave  Subscriber    Male     1988.0  \n",
       "48                      Kedzie Ave & Leland Ave    Customer     NaN        NaN  \n",
       "49                       Clark St & Elmdale Ave  Subscriber    Male     1988.0  "
      ]
     },
     "execution_count": 4,
     "metadata": {},
     "output_type": "execute_result"
    }
   ],
   "source": [
    "# Display the first fifty rows of the dataframe\n",
    "df.head(50)"
   ]
  },
  {
   "cell_type": "code",
   "execution_count": 5,
   "id": "4b36745c",
   "metadata": {},
   "outputs": [
    {
     "name": "stdout",
     "output_type": "stream",
     "text": [
      "Duplicates: 0\n"
     ]
    }
   ],
   "source": [
    "# Check for duplicate rows\n",
    "duplicates = df.duplicated().sum()\n",
    "print(f'Duplicates: {duplicates}')"
   ]
  },
  {
   "cell_type": "code",
   "execution_count": 6,
   "id": "94b85fe8",
   "metadata": {},
   "outputs": [
    {
     "name": "stdout",
     "output_type": "stream",
     "text": [
      "trip_id                  0\n",
      "start_time               0\n",
      "end_time                 0\n",
      "bikeid                   0\n",
      "tripduration             0\n",
      "from_station_id          0\n",
      "from_station_name        0\n",
      "to_station_id            0\n",
      "to_station_name          0\n",
      "usertype                 0\n",
      "gender               19711\n",
      "birthyear            18023\n",
      "dtype: int64\n"
     ]
    }
   ],
   "source": [
    "# Check the number of missing (null) values in each column.\n",
    "missing_values = df.isnull().sum()\n",
    "print(missing_values)"
   ]
  },
  {
   "cell_type": "code",
   "execution_count": 7,
   "id": "bebaebc1",
   "metadata": {},
   "outputs": [],
   "source": [
    "# Fill missing gender values with 'Unknown' as the values are already strings, so filling them won't affect statistical analysis.\n",
    "df['gender'].fillna('Unknown', inplace=True)"
   ]
  },
  {
   "cell_type": "code",
   "execution_count": 8,
   "id": "388df5e4",
   "metadata": {},
   "outputs": [
    {
     "name": "stdout",
     "output_type": "stream",
     "text": [
      "Missing birthyear percentage: 4.94%\n"
     ]
    }
   ],
   "source": [
    "# Handle null values in 'birthyear'.\n",
    "# Check the percentage of missing values to decide if we should calculate and fill with the median value, drop null values or fill with a string.\n",
    "missing_birthyear_percentage = df['birthyear'].isnull().mean() * 100\n",
    "print(f\"Missing birthyear percentage: {missing_birthyear_percentage:.2f}%\")"
   ]
  },
  {
   "cell_type": "markdown",
   "id": "b1f65889",
   "metadata": {},
   "source": [
    "The percentage of missing 'birthyear' values is 4.94% of the whole column, so dropping them would mean losing other data that may be useful in the analysis process and filling them with a calculated value, like the median or the mean would lead to skewing the results of statistical analyses and lead to false conclusions.\n",
    "\n",
    "So, the best thing to do in this scenario is to leave them as NaN for now. This approach will lead to more accurate analysia and save the integrity of the data."
   ]
  },
  {
   "cell_type": "markdown",
   "id": "767fc48a",
   "metadata": {},
   "source": [
    "Converting some data types into the appropriate types."
   ]
  },
  {
   "cell_type": "code",
   "execution_count": 9,
   "id": "8270b08e",
   "metadata": {},
   "outputs": [
    {
     "name": "stdout",
     "output_type": "stream",
     "text": [
      "0          390.0\n",
      "1          441.0\n",
      "2          829.0\n",
      "3         1783.0\n",
      "4          364.0\n",
      "           ...  \n",
      "365064     757.0\n",
      "365065     332.0\n",
      "365066     846.0\n",
      "365067     178.0\n",
      "365068     448.0\n",
      "Name: tripduration, Length: 365069, dtype: object\n"
     ]
    }
   ],
   "source": [
    "# Converting tripduration data type to numeric to be able to work with it in mathematical analysis.\n",
    "\n",
    "# If we try to convert 'tripduration' datatype from object to integer, an error would occur as some values contain ','.\n",
    "# To solve this, I'll strip 'tripduration' of commas before conversion.\n",
    "\n",
    "df['tripduration'] = df['tripduration'].str.replace(',', '')\n",
    "print(df['tripduration'])"
   ]
  },
  {
   "cell_type": "code",
   "execution_count": 10,
   "id": "5927fc51",
   "metadata": {},
   "outputs": [
    {
     "name": "stdout",
     "output_type": "stream",
     "text": [
      "0          390.0\n",
      "1          441.0\n",
      "2          829.0\n",
      "3         1783.0\n",
      "4          364.0\n",
      "           ...  \n",
      "365064     757.0\n",
      "365065     332.0\n",
      "365066     846.0\n",
      "365067     178.0\n",
      "365068     448.0\n",
      "Name: tripduration, Length: 365069, dtype: float64\n"
     ]
    }
   ],
   "source": [
    "# Converting tripduration data type to numeric.\n",
    "df['tripduration'] = pd.to_numeric(df['tripduration'])\n",
    "print(df['tripduration'])"
   ]
  },
  {
   "cell_type": "code",
   "execution_count": 11,
   "id": "cc49ff4c",
   "metadata": {},
   "outputs": [],
   "source": [
    "# Convert 'start_time' and 'end_time' to datetime.\n",
    "df['start_time'] = pd.to_datetime(df['start_time'])\n",
    "df['end_time'] = pd.to_datetime(df['end_time'])"
   ]
  },
  {
   "cell_type": "code",
   "execution_count": 12,
   "id": "747d5005",
   "metadata": {},
   "outputs": [],
   "source": [
    "# Convert birthyear column to numeric, while coercing errors.\n",
    "df['birthyear'] = pd.to_numeric(df['birthyear'], errors='coerce')"
   ]
  },
  {
   "cell_type": "code",
   "execution_count": 13,
   "id": "b61eb7cb",
   "metadata": {},
   "outputs": [
    {
     "name": "stdout",
     "output_type": "stream",
     "text": [
      "<class 'pandas.core.frame.DataFrame'>\n",
      "RangeIndex: 365069 entries, 0 to 365068\n",
      "Data columns (total 12 columns):\n",
      " #   Column             Non-Null Count   Dtype         \n",
      "---  ------             --------------   -----         \n",
      " 0   trip_id            365069 non-null  int64         \n",
      " 1   start_time         365069 non-null  datetime64[ns]\n",
      " 2   end_time           365069 non-null  datetime64[ns]\n",
      " 3   bikeid             365069 non-null  int64         \n",
      " 4   tripduration       365069 non-null  float64       \n",
      " 5   from_station_id    365069 non-null  int64         \n",
      " 6   from_station_name  365069 non-null  object        \n",
      " 7   to_station_id      365069 non-null  int64         \n",
      " 8   to_station_name    365069 non-null  object        \n",
      " 9   usertype           365069 non-null  object        \n",
      " 10  gender             365069 non-null  object        \n",
      " 11  birthyear          347046 non-null  float64       \n",
      "dtypes: datetime64[ns](2), float64(2), int64(4), object(4)\n",
      "memory usage: 33.4+ MB\n"
     ]
    }
   ],
   "source": [
    "# Making sure all the data types are now appropriate.\n",
    "df.info()"
   ]
  },
  {
   "cell_type": "markdown",
   "id": "e06af736",
   "metadata": {},
   "source": [
    "All the columns have the appropriate types."
   ]
  },
  {
   "cell_type": "code",
   "execution_count": 14,
   "id": "01aa5c13",
   "metadata": {},
   "outputs": [],
   "source": [
    "# Save the cleaned data to a new CSV file\n",
    "df.to_csv('cleaned_bicycle_data.csv', index=False)"
   ]
  },
  {
   "cell_type": "markdown",
   "id": "ae3c6312",
   "metadata": {},
   "source": [
    "## Exploratory Data Analysis\n",
    "\n",
    "We begin by analyzing the distribution of trip durations, the peak hours for trips, gender and age distributions of users...\n",
    "This helps us understand the general usage patterns."
   ]
  },
  {
   "cell_type": "code",
   "execution_count": 15,
   "id": "bb9ade4b",
   "metadata": {},
   "outputs": [
    {
     "name": "stdout",
     "output_type": "stream",
     "text": [
      "            trip_id         bikeid  tripduration  from_station_id  \\\n",
      "count  3.650690e+05  365069.000000  3.650690e+05    365069.000000   \n",
      "mean   2.196087e+07    3429.484607  1.016342e+03       198.088816   \n",
      "std    1.271750e+05    1923.321025  2.791351e+04       153.493553   \n",
      "min    2.174244e+07       1.000000  6.100000e+01         2.000000   \n",
      "25%    2.184876e+07    1777.000000  3.260000e+02        76.000000   \n",
      "50%    2.196183e+07    3489.000000  5.240000e+02       170.000000   \n",
      "75%    2.207182e+07    5157.000000  8.660000e+02       287.000000   \n",
      "max    2.217853e+07    6471.000000  1.062840e+07       665.000000   \n",
      "\n",
      "       to_station_id      birthyear  \n",
      "count  365069.000000  347046.000000  \n",
      "mean      198.581123    1981.674297  \n",
      "std       154.468304      11.245683  \n",
      "min         2.000000    1900.000000  \n",
      "25%        76.000000    1975.000000  \n",
      "50%       168.000000    1985.000000  \n",
      "75%       287.000000    1990.000000  \n",
      "max       665.000000    2003.000000  \n"
     ]
    }
   ],
   "source": [
    "# Summary statistics for numerical columns\n",
    "summary_stats = df.describe()\n",
    "print(summary_stats)"
   ]
  },
  {
   "cell_type": "markdown",
   "id": "b129d600",
   "metadata": {},
   "source": [
    "#### Analyzing the distribution of 'trip_duration'\n",
    "To analyze, I'll filter out the outliers."
   ]
  },
  {
   "cell_type": "code",
   "execution_count": 16,
   "id": "f0487874",
   "metadata": {},
   "outputs": [],
   "source": [
    "# Filter tripduration to be between 1 minute (60 seconds) and 1 hour (3600 seconds).\n",
    "filtered_df_1 = df[(df['tripduration'] > 60) & (df['tripduration'] < 3600)]"
   ]
  },
  {
   "cell_type": "code",
   "execution_count": 17,
   "id": "236e5662",
   "metadata": {},
   "outputs": [
    {
     "data": {
      "image/png": "[encoded data removed]",
      "text/plain": [
       "<Figure size 720x432 with 1 Axes>"
      ]
     },
     "metadata": {
      "needs_background": "light"
     },
     "output_type": "display_data"
    }
   ],
   "source": [
    "# Visualize filtered tripduration\n",
    "plt.figure(figsize=(10, 6))\n",
    "sns.histplot(filtered_df_1['tripduration'], bins=100, kde=True)\n",
    "plt.title('Distribution of Trip Durations (in seconds) - Filtered')\n",
    "plt.xlabel('Trip Duration (seconds)')\n",
    "plt.ylabel('Frequency')\n",
    "plt.show()"
   ]
  },
  {
   "cell_type": "markdown",
   "id": "0a1823b2",
   "metadata": {},
   "source": [
    "### Distribution of Trip Durations\n",
    "The previous histogram shows the distribution of trip durations. This visualization helps us understand the typical length of bike trips and identify patterns in trip duration.\n",
    "\n",
    "### Insights:\n",
    "Most trips are relatively short, with a significant peak around a few hundred seconds. This suggests that the majority of users are using the bikes for short commutes or quick trips."
   ]
  },
  {
   "cell_type": "code",
   "execution_count": 18,
   "id": "1e2b89cd",
   "metadata": {},
   "outputs": [
    {
     "data": {
      "image/png": "[encoded data removed]",
      "text/plain": [
       "<Figure size 720x432 with 1 Axes>"
      ]
     },
     "metadata": {
      "needs_background": "light"
     },
     "output_type": "display_data"
    }
   ],
   "source": [
    "# Trips by time of the day\n",
    "\n",
    "# Extract hour from start_time\n",
    "df['start_hour'] = df['start_time'].dt.hour\n",
    "\n",
    "# Plot number of trips by hour of the day\n",
    "plt.figure(figsize=(10, 6))\n",
    "sns.countplot(x='start_hour', data=df, palette='viridis')\n",
    "plt.title('Number of Trips by Hour of the Day')\n",
    "plt.xlabel('Hour of the Day')\n",
    "plt.ylabel('Number of Trips')\n",
    "plt.show()"
   ]
  },
  {
   "cell_type": "markdown",
   "id": "5a0476b8",
   "metadata": {},
   "source": [
    "### Trips by Time (Hour) of The Day\n",
    "This bar plot explores the hours in which trips are started.\n",
    "\n",
    "### Insights:\n",
    "It's obvious that peak times are in accordance with commuting times (around nine a.m and five p.m)."
   ]
  },
  {
   "cell_type": "code",
   "execution_count": 19,
   "id": "45275199",
   "metadata": {},
   "outputs": [
    {
     "data": {
      "image/png": "[encoded data removed]",
      "text/plain": [
       "<Figure size 720x432 with 1 Axes>"
      ]
     },
     "metadata": {
      "needs_background": "light"
     },
     "output_type": "display_data"
    }
   ],
   "source": [
    "# User type distribution\n",
    "# Plot user type distribution\n",
    "plt.figure(figsize=(10, 6))\n",
    "sns.countplot(x='usertype', data=df, palette='viridis')\n",
    "plt.title('User Type Distribution')\n",
    "plt.xlabel('User Type')\n",
    "plt.ylabel('Count')\n",
    "plt.show()"
   ]
  },
  {
   "cell_type": "markdown",
   "id": "bae77c48",
   "metadata": {},
   "source": [
    "### User Type Distribution\n",
    "This bar chart explores the distribution of the two usertypes: customers and subscribers.\n",
    "### Insights:\n",
    "It's obvious that most users are subscribers with over 300,000 subscribers. Customers are a minority."
   ]
  },
  {
   "cell_type": "code",
   "execution_count": 20,
   "id": "210fef0a",
   "metadata": {},
   "outputs": [
    {
     "data": {
      "image/png": "[encoded data removed]",
      "text/plain": [
       "<Figure size 720x432 with 1 Axes>"
      ]
     },
     "metadata": {
      "needs_background": "light"
     },
     "output_type": "display_data"
    }
   ],
   "source": [
    "# Plot trips by gender\n",
    "plt.figure(figsize=(10, 6))\n",
    "sns.countplot(x='gender', data=df, palette='viridis')\n",
    "plt.title('Trips by Gender')\n",
    "plt.xlabel('Gender')\n",
    "plt.ylabel('Count')\n",
    "plt.show()"
   ]
  },
  {
   "cell_type": "markdown",
   "id": "66c15c8b",
   "metadata": {},
   "source": [
    "### Trip Distribution by Gender\n",
    "This bar chart shows the difference in the number of users from each gender and the number of users whose gender values were missing (marked as 'Unknown').\n",
    "### Insights:\n",
    "Most users are male, with more than 250,000 users. Females are a lot less than males, with just over 50,000 users. A proportion of the users have don't have data for 'gender' (missing values) as already calculated in the data cleaning segment."
   ]
  },
  {
   "cell_type": "code",
   "execution_count": 21,
   "id": "ff6c438d",
   "metadata": {},
   "outputs": [
    {
     "name": "stdout",
     "output_type": "stream",
     "text": [
      "Clinton St & Washington Blvd    7699\n",
      "Clinton St & Madison St         6565\n",
      "Canal St & Adams St             6342\n",
      "Columbus Dr & Randolph St       4655\n",
      "Canal St & Madison St           4571\n",
      "Kingsbury St & Kinzie St        4395\n",
      "Michigan Ave & Washington St    3992\n",
      "Franklin St & Monroe St         3516\n",
      "LaSalle St & Jackson Blvd       3252\n",
      "Dearborn St & Monroe St         3246\n",
      "Name: from_station_name, dtype: int64\n"
     ]
    }
   ],
   "source": [
    "# Top 10 start stations\n",
    "top_start_stations = df['from_station_name'].value_counts().head(10)\n",
    "print(top_start_stations)"
   ]
  },
  {
   "cell_type": "code",
   "execution_count": 22,
   "id": "587972dc",
   "metadata": {},
   "outputs": [
    {
     "data": {
      "image/png": "[encoded data removed]",
      "text/plain": [
       "<Figure size 720x432 with 1 Axes>"
      ]
     },
     "metadata": {
      "needs_background": "light"
     },
     "output_type": "display_data"
    }
   ],
   "source": [
    "# Plot top 10 start stations\n",
    "plt.figure(figsize=(10, 6))\n",
    "sns.barplot(y=top_start_stations.index, x=top_start_stations.values, palette='viridis')\n",
    "plt.title('Top 10 Start Stations')\n",
    "plt.xlabel('Number of Trips')\n",
    "plt.ylabel('Start Station')\n",
    "plt.show()"
   ]
  },
  {
   "cell_type": "markdown",
   "id": "35e8e74f",
   "metadata": {},
   "source": [
    "### Top 10 Start Stations\n",
    "This graph shows the 10 most start stations by the number of trips started from them.\n",
    "### Insights:\n",
    "The top start station is: 'Clinton St & Washington Blvd', followed by 'Clinton St & Madison St'..."
   ]
  },
  {
   "cell_type": "code",
   "execution_count": 23,
   "id": "36f511b0",
   "metadata": {},
   "outputs": [
    {
     "name": "stdout",
     "output_type": "stream",
     "text": [
      "Clinton St & Washington Blvd     7699\n",
      "Clinton St & Madison St          6859\n",
      "Canal St & Adams St              6744\n",
      "Canal St & Madison St            4875\n",
      "Michigan Ave & Washington St     4412\n",
      "Kingsbury St & Kinzie St         4376\n",
      "LaSalle St & Jackson Blvd        3304\n",
      "Clinton St & Lake St             3297\n",
      "Clinton St & Jackson Blvd (*)    3137\n",
      "Dearborn St & Monroe St          3137\n",
      "Name: to_station_name, dtype: int64\n"
     ]
    }
   ],
   "source": [
    "# Top 10 end stations\n",
    "top_end_stations = df['to_station_name'].value_counts().head(10)\n",
    "print(top_end_stations)"
   ]
  },
  {
   "cell_type": "code",
   "execution_count": 24,
   "id": "ee65f3b4",
   "metadata": {},
   "outputs": [
    {
     "data": {
      "image/png": "[encoded data removed]",
      "text/plain": [
       "<Figure size 720x432 with 1 Axes>"
      ]
     },
     "metadata": {
      "needs_background": "light"
     },
     "output_type": "display_data"
    }
   ],
   "source": [
    "# Plot top 10 end stations\n",
    "plt.figure(figsize=(10, 6))\n",
    "sns.barplot(y=top_end_stations.index, x=top_end_stations.values, palette='viridis')\n",
    "plt.title('Top 10 End Stations')\n",
    "plt.xlabel('Number of Trips')\n",
    "plt.ylabel('End Station')\n",
    "plt.show()"
   ]
  },
  {
   "cell_type": "markdown",
   "id": "c05c9b33",
   "metadata": {},
   "source": [
    "### Top 10 End Stations\n",
    "This graph shows the 10 most End stations by the number of trips that ended in these stations.\n",
    "### Insights:\n",
    "The top end station is: 'Clinton St & Washington Blvd', followed by 'Clinton St & Madison St'...\n",
    "\n",
    "The top 3 start stations are the same top 3 end stations, which might suggest 'back and forth' trips."
   ]
  },
  {
   "cell_type": "markdown",
   "id": "6ad96607",
   "metadata": {},
   "source": [
    "## Starting the more specific analysis\n",
    "The goal is to increase the conversion of casual riders into annual members, as these are more profitable.To do so, we need to better understand how the two types differ."
   ]
  },
  {
   "cell_type": "code",
   "execution_count": 25,
   "id": "f3916366",
   "metadata": {},
   "outputs": [
    {
     "data": {
      "image/png": "[encoded data removed]",
      "text/plain": [
       "<Figure size 864x576 with 1 Axes>"
      ]
     },
     "metadata": {
      "needs_background": "light"
     },
     "output_type": "display_data"
    }
   ],
   "source": [
    "# Analyzing the number of trips taken at each day of the week for each usertype.\n",
    "\n",
    "# Calculate the day of the week\n",
    "df['day_of_week'] = df['start_time'].dt.day_name()\n",
    "\n",
    "# Ensure the days of the week are ordered correctly.\n",
    "days_order = ['Monday', 'Tuesday', 'Wednesday', 'Thursday', 'Friday', 'Saturday', 'Sunday']\n",
    "df['day_of_week'] = pd.Categorical(df['day_of_week'], categories=days_order, ordered=True)\n",
    "\n",
    "# Grouping by the two columns 'day_of_week' & 'usertype'.\n",
    "trips_by_day_usertype = df.groupby(['day_of_week', 'usertype']).agg({'trip_id':['count']}).reset_index()\n",
    "\n",
    "# Adding names to the columns to be able to visualize them.\n",
    "trips_by_day_usertype.columns = ['day_of_week', 'usertype', 'trip_count']\n",
    "\n",
    "# Group by day of the week to get the total number of trips per day.\n",
    "total_trips_per_day = df.groupby('day_of_week').agg({'trip_id': 'count'}).reset_index()\n",
    "total_trips_per_day.columns = ['day_of_week', 'total_trip_count']\n",
    "\n",
    "# Merge the data frames to include the total trips per day.\n",
    "trips_by_day_usertype = pd.merge(trips_by_day_usertype, total_trips_per_day, on='day_of_week')\n",
    "\n",
    "# Calculating the proportion of trips taken by each user type of the total number of trips in each day of the week\n",
    "# (Normalization is done to make the two usertypes visualizations comparable).\n",
    "trips_by_day_usertype['proportion_of_trips'] = trips_by_day_usertype['trip_count'] / trips_by_day_usertype['total_trip_count']\n",
    "\n",
    "# Visualize the analysis\n",
    "# Make the size of the graph bigger as it contains more dense and tall bars.\n",
    "plt.figure(figsize=(12, 8))\n",
    "sns.barplot(data=trips_by_day_usertype, x='day_of_week', y='proportion_of_trips', hue='usertype')\n",
    "plt.title('Proportion of Trips by User Type In Each Day of the Week')\n",
    "plt.xlabel('Day of the Week')\n",
    "plt.ylabel('Proportion of Trips')\n",
    "plt.legend(title='User Type')\n",
    "plt.show()"
   ]
  },
  {
   "cell_type": "markdown",
   "id": "97d5d97a",
   "metadata": {},
   "source": [
    "### Proportion of Trips by User Type In Each Day of the Week\n",
    "This chart shows the relative distribution of trips between user types for each day of the week.\n",
    "\n",
    "### Insights:\n",
    "The percentage of trips taken by subscribers is almost stable throught week days (Monday to Friday) and then decreases in weekends (Saturday and Sunday), which would suggest commuting.\n",
    "On the other hand, customers trips percentages were at their highest on weekends and less so on weekdays. \n",
    "\n",
    "### Next Visualization:\n",
    "I'll create another visualization to figure out if the increase in the percentage of customer trips in weekends is due to an increase in the number of customers trips, a decrease in the number of subscribers trips, or both."
   ]
  },
  {
   "cell_type": "code",
   "execution_count": 26,
   "id": "ab3a3ec0",
   "metadata": {},
   "outputs": [
    {
     "data": {
      "image/png": "[encoded data removed]",
      "text/plain": [
       "<Figure size 864x576 with 1 Axes>"
      ]
     },
     "metadata": {
      "needs_background": "light"
     },
     "output_type": "display_data"
    }
   ],
   "source": [
    "# Visualizing the number of trips for each usertype in each day of the week\n",
    "plt.figure(figsize=(12, 8))\n",
    "ax= sns.barplot(data=trips_by_day_usertype, x='day_of_week', y='trip_count', hue='usertype')\n",
    "\n",
    "# Adding annotations\n",
    "for container in ax.containers:\n",
    "    ax.bar_label(container)\n",
    "\n",
    "plt.title('Absolute Number of Trips by Day of the Week and User Type')\n",
    "plt.xlabel('Day of the Week')\n",
    "plt.ylabel('Number of Trips')\n",
    "plt.legend(title='User Type')\n",
    "plt.show()"
   ]
  },
  {
   "cell_type": "markdown",
   "id": "490c402d",
   "metadata": {},
   "source": [
    "### Number of Trips by Day of the Week and User Type\n",
    "This bar graph shows the differences in the absolute number of trips taken by each usertype in each day of the week. I made this graph to know the reason the percentage of trips, taken by the two user types, changed on weekends.\n",
    "\n",
    "### Insights:\n",
    "1. The number of trips taken by subscribers in weekdays is always above 45,000 trips a day. On weekends, this number drops significantly to 29,309 on Saturday and 24,233 on Sunday.\n",
    "2. The number of trips taken by customers increased on weekends, as the day with the most customer trips is Saturday (5993 trips) with almost double the number of trips taken on any weekday.\n",
    "\n",
    "### Conclusions:\n",
    "1. The increase in the percentage of customer trips on weekends is primarily due to an increase in the number of trips taken by customers, coupled with a decrease in the number of trips taken by subscribers on these days.\n",
    "2. These insights suggest that customers are more likely to use the service for leisure activities on weekends, while subscribers are likely using it for commuting during weekdays."
   ]
  },
  {
   "cell_type": "code",
   "execution_count": 27,
   "id": "793f3f16",
   "metadata": {},
   "outputs": [
    {
     "data": {
      "image/png": "[encoded data removed]",
      "text/plain": [
       "<Figure size 864x576 with 1 Axes>"
      ]
     },
     "metadata": {
      "needs_background": "light"
     },
     "output_type": "display_data"
    }
   ],
   "source": [
    "# Trip duration by day of the week\n",
    "# Aggregating the data to find mean trip duration by day of the week and user type\n",
    "mean_tripduration_by_day_usertype = df.groupby(['day_of_week', 'usertype'])['tripduration'].mean().reset_index()\n",
    "\n",
    "# Sorting the days of the week to ensure correct order\n",
    "mean_tripduration_by_day_usertype = mean_tripduration_by_day_usertype.sort_values('day_of_week')\n",
    "\n",
    "# Plotting\n",
    "# Make the size of the graph bigger as it contains more dense and tall bars.\n",
    "plt.figure(figsize=(12, 8))\n",
    "sns.barplot(data=mean_tripduration_by_day_usertype, x='day_of_week', y='tripduration', hue='usertype', palette='viridis')\n",
    "plt.title('Mean Trip Duration by Day of the Week for Each User Type')\n",
    "plt.xlabel('Day of the Week')\n",
    "plt.ylabel('Mean Trip Duration (Seconds)')\n",
    "plt.show()"
   ]
  },
  {
   "cell_type": "markdown",
   "id": "e676b2d3",
   "metadata": {},
   "source": [
    "### Mean Trip Duration by Day of the Week For Each User Type:\n",
    "This bar chart shows the difference in the average trip duration each user type takes in each day of the week.\n",
    "\n",
    "### Insights:\n",
    "For subscribers, the average trip duration is almost stable in each day of the week. For customers, the day with the lenghtheist trips is Thursday."
   ]
  },
  {
   "cell_type": "code",
   "execution_count": 28,
   "id": "dc086dbf",
   "metadata": {},
   "outputs": [
    {
     "name": "stdout",
     "output_type": "stream",
     "text": [
      "Subscriber    341906\n",
      "Customer       23163\n",
      "Name: usertype, dtype: int64\n"
     ]
    }
   ],
   "source": [
    "# Calculate number of trips for each user type\n",
    "trip_counts = df['usertype'].value_counts()\n",
    "print(trip_counts)"
   ]
  },
  {
   "cell_type": "markdown",
   "id": "08892d27",
   "metadata": {},
   "source": [
    "### Insight:\n",
    "The majority of trips are from subscribers with 341906 trips. Customers took 23163 trips."
   ]
  },
  {
   "cell_type": "code",
   "execution_count": 29,
   "id": "be401440",
   "metadata": {},
   "outputs": [
    {
     "name": "stdout",
     "output_type": "stream",
     "text": [
      "      User type             From station name  Trip Count\n",
      "683  Subscriber  Clinton St & Washington Blvd        7611\n",
      "679  Subscriber       Clinton St & Madison St        6345\n",
      "618  Subscriber           Canal St & Adams St        6213\n",
      "621  Subscriber         Canal St & Madison St        4461\n",
      "685  Subscriber     Columbus Dr & Randolph St        4416\n",
      "827  Subscriber      Kingsbury St & Kinzie St        4229\n",
      "909  Subscriber  Michigan Ave & Washington St        3648\n",
      "765  Subscriber       Franklin St & Monroe St        3430\n",
      "835  Subscriber     LaSalle St & Jackson Blvd        3193\n",
      "723  Subscriber       Dearborn St & Monroe St        3153\n",
      "470    Customer       Streeter Dr & Grand Ave        1219\n",
      "280    Customer     Lake Shore Dr & Monroe St        1142\n",
      "414    Customer                Shedd Aquarium         834\n",
      "344    Customer               Millennium Park         627\n",
      "339    Customer         Michigan Ave & Oak St         386\n",
      "7      Customer             Adler Planetarium         362\n",
      "341    Customer  Michigan Ave & Washington St         344\n",
      "185    Customer                Dusable Harbor         342\n",
      "205    Customer                  Field Museum         299\n",
      "50     Customer    Buckingham Fountain (Temp)         256\n"
     ]
    }
   ],
   "source": [
    "# Most popular start stations\n",
    "popular_start_stations = df.groupby(['usertype', 'from_station_name'])['trip_id'].count().reset_index().sort_values(by='trip_id', ascending=False).groupby('usertype').head(10)\n",
    "popular_start_stations.columns = ['User type','From station name','Trip Count']\n",
    "print(popular_start_stations)"
   ]
  },
  {
   "cell_type": "code",
   "execution_count": 30,
   "id": "b067dd14",
   "metadata": {},
   "outputs": [
    {
     "name": "stdout",
     "output_type": "stream",
     "text": [
      "      User type                To station name  Trip Count\n",
      "696  Subscriber   Clinton St & Washington Blvd        7570\n",
      "692  Subscriber        Clinton St & Madison St        6666\n",
      "633  Subscriber            Canal St & Adams St        6649\n",
      "636  Subscriber          Canal St & Madison St        4748\n",
      "847  Subscriber       Kingsbury St & Kinzie St        4303\n",
      "929  Subscriber   Michigan Ave & Washington St        4002\n",
      "691  Subscriber           Clinton St & Lake St        3246\n",
      "854  Subscriber      LaSalle St & Jackson Blvd        3235\n",
      "690  Subscriber  Clinton St & Jackson Blvd (*)        3064\n",
      "739  Subscriber        Dearborn St & Monroe St        3049\n",
      "481    Customer        Streeter Dr & Grand Ave        1934\n",
      "286    Customer      Lake Shore Dr & Monroe St         891\n",
      "353    Customer                Millennium Park         820\n",
      "427    Customer                 Shedd Aquarium         640\n",
      "347    Customer          Michigan Ave & Oak St         447\n",
      "349    Customer   Michigan Ave & Washington St         410\n",
      "483    Customer            Theater on the Lake         351\n",
      "7      Customer              Adler Planetarium         295\n",
      "287    Customer     Lake Shore Dr & North Blvd         286\n",
      "497    Customer         Wabash Ave & Grand Ave         244\n"
     ]
    }
   ],
   "source": [
    "# Most popular end stations\n",
    "popular_end_stations = df.groupby(['usertype', 'to_station_name'])['trip_id'].count().reset_index().sort_values(by='trip_id', ascending=False).groupby('usertype').head(10)\n",
    "popular_end_stations.columns = ['User type','To station name','Trip Count']\n",
    "print(popular_end_stations)"
   ]
  },
  {
   "cell_type": "markdown",
   "id": "1b0575f3",
   "metadata": {},
   "source": [
    "### Most Popular Start Stations & Most Popular End Stations\n",
    "For subscribers, the top stations (start and end) are: 'Clinton St & Washington Blvd', 'Clinton St & Madison St' and 'Canal St & Adams St'.\n",
    "\n",
    "While for customers, the top stations (start and end) are: 'Streeter Dr & Grand Ave', 'Lake Shore Dr & Monroe St', 'Millennium Park' & 'Shedd Aquarium'. These stations should be targeted with ads for customers to be converted to subscribers."
   ]
  },
  {
   "cell_type": "code",
   "execution_count": 31,
   "id": "720873bb",
   "metadata": {},
   "outputs": [
    {
     "name": "stdout",
     "output_type": "stream",
     "text": [
      "usertype\n",
      "Customer      1374.447398\n",
      "Subscriber     633.720868\n",
      "Name: tripduration, dtype: float64\n"
     ]
    }
   ],
   "source": [
    "# Calculate mean trip duration for each user type\n",
    "mean_trip_duration = filtered_df_1.groupby('usertype')['tripduration'].mean()\n",
    "print(mean_trip_duration)"
   ]
  },
  {
   "cell_type": "markdown",
   "id": "d30e2712",
   "metadata": {},
   "source": [
    "### Insight: \n",
    "Customers (casual riders) trips take longer durations than members."
   ]
  },
  {
   "cell_type": "code",
   "execution_count": 32,
   "id": "b0413ce4",
   "metadata": {},
   "outputs": [
    {
     "data": {
      "image/png": "[encoded data removed]",
      "text/plain": [
       "<Figure size 720x432 with 1 Axes>"
      ]
     },
     "metadata": {
      "needs_background": "light"
     },
     "output_type": "display_data"
    }
   ],
   "source": [
    "#Trip Duration Distribution by User Type (Normalized):\n",
    "# Normalization is done to make the differences between the two user types clearer and more obvious as the number of trips taken by customers is very little compared to those taken by subscribers.\n",
    "\n",
    "plt.figure(figsize=(10, 6))\n",
    "sns.histplot(data=filtered_df_1, x='tripduration', hue='usertype', bins=50, kde=True, stat='density', common_norm=False)\n",
    "plt.title('Normalized Trip Duration Distribution by User Type')\n",
    "plt.xlabel('Trip Duration (seconds)')\n",
    "plt.ylabel('Density')\n",
    "plt.show()"
   ]
  },
  {
   "cell_type": "markdown",
   "id": "2da5f78d",
   "metadata": {},
   "source": [
    "### Normalizd Trip Duration Distribution by User Type:\n",
    "This histogram shows the distribution of the trip duration of the trips taken by each user type. This can help us in creating marketing campaigns based on the conclusions.\n",
    "Normalization was done, by calculating the density of the number of trips, to make the comparison easier and clearer.\n",
    "### Insight:\n",
    "It's obvious that Customers take longer duration trips than Subscribers as most trips that are longer than 1500 seconds are taken by customers. On the other hand, most subscribers trips are less than 1000 seconds."
   ]
  },
  {
   "cell_type": "code",
   "execution_count": 33,
   "id": "f5253173",
   "metadata": {},
   "outputs": [
    {
     "name": "stdout",
     "output_type": "stream",
     "text": [
      "usertype\n",
      "Customer      73.936882\n",
      "Subscriber     0.262353\n",
      "Name: birthyear, dtype: float64\n"
     ]
    }
   ],
   "source": [
    "# Calculate percentage of missing birthyear values for each usertype\n",
    "unknown_birthyear_percentages = df.groupby('usertype')['birthyear'].apply(lambda x: (x.isna()).mean() * 100)\n",
    "print(unknown_birthyear_percentages)"
   ]
  },
  {
   "cell_type": "markdown",
   "id": "3022c644",
   "metadata": {},
   "source": [
    "### Insight:\n",
    "The 'Customer' data is missing a lot (about three quarters) of 'birthyear' data. The company should try to gather more birthyear data from customers."
   ]
  },
  {
   "cell_type": "code",
   "execution_count": 34,
   "id": "a4153440",
   "metadata": {},
   "outputs": [],
   "source": [
    "# Creating a new column 'age' based on 'birthyear' to check for the age distribution of users.\n",
    "\n",
    "# Calculating this year to be able to calculate 'age' correctly.\n",
    "current_year = pd.Timestamp.now().year\n",
    "\n",
    "# Calculating 'age' by extracting 'current_year' from 'birthyear'\n",
    "df['age'] = current_year - df['birthyear']"
   ]
  },
  {
   "cell_type": "code",
   "execution_count": 35,
   "id": "f858531f",
   "metadata": {},
   "outputs": [
    {
     "name": "stdout",
     "output_type": "stream",
     "text": [
      "count    347046.000000\n",
      "mean         42.325703\n",
      "std          11.245683\n",
      "min          21.000000\n",
      "25%          34.000000\n",
      "50%          39.000000\n",
      "75%          49.000000\n",
      "max         124.000000\n",
      "Name: age, dtype: float64\n"
     ]
    }
   ],
   "source": [
    "# Checking age for outliers\n",
    "print(df['age'].describe())"
   ]
  },
  {
   "cell_type": "code",
   "execution_count": 36,
   "id": "ce34185c",
   "metadata": {},
   "outputs": [],
   "source": [
    "# Filter the 'age' data to only include people under 90 (removing outliers):\n",
    "df_filtered_2 = df[df['age'] <= 90.0]"
   ]
  },
  {
   "cell_type": "code",
   "execution_count": 37,
   "id": "f6090c42",
   "metadata": {},
   "outputs": [
    {
     "data": {
      "image/png": "[encoded data removed]",
      "text/plain": [
       "<Figure size 720x432 with 1 Axes>"
      ]
     },
     "metadata": {
      "needs_background": "light"
     },
     "output_type": "display_data"
    }
   ],
   "source": [
    "#Although 'Customer' data is missing a lot of 'birthyear' values and therefore also 'age' values, we'll work with the data that we have\n",
    "#Age Distribution by User Type:\n",
    "plt.figure(figsize=(10, 6))\n",
    "sns.histplot(data= df_filtered_2, x= df_filtered_2['age'], hue= df_filtered_2['usertype'], kde=True, bins=30, stat = 'density', common_norm=False)\n",
    "plt.title('Normalized Age Distribution by User Type')\n",
    "plt.xlabel('Age')\n",
    "plt.ylabel('Frequency')\n",
    "plt.show()"
   ]
  },
  {
   "cell_type": "markdown",
   "id": "f89e2812",
   "metadata": {},
   "source": [
    "### Normalized Age Distribution by User Type\n",
    "This bar chart shows the differences in age distribution between the two user types. This can help us create ad campaigns that suit the age segment we will target.\n",
    "Normalization was done to make the comparison easier and clearer.\n",
    "\n",
    "### Insight:\n",
    "Younger people are more likely to be 'Customer' while older people are more likely to be 'Subsciber'.\n",
    "Most people below thirty years are Customers.\n",
    "Most people older than sixty years are Subscibers."
   ]
  },
  {
   "cell_type": "code",
   "execution_count": 38,
   "id": "373552cb",
   "metadata": {},
   "outputs": [
    {
     "data": {
      "image/png": "[encoded data removed]",
      "text/plain": [
       "<Figure size 720x432 with 1 Axes>"
      ]
     },
     "metadata": {
      "needs_background": "light"
     },
     "output_type": "display_data"
    }
   ],
   "source": [
    "# Peak Hours for Trips by User Type (Normalized):\n",
    "\n",
    "# Normalize counts by user type\n",
    "hourly_counts = df.groupby(['usertype', 'start_hour']).size().reset_index(name='counts')\n",
    "hourly_counts['percent'] = hourly_counts.groupby('usertype')['counts'].apply(lambda x: x / x.sum() * 100)\n",
    "\n",
    "# Visualizing.\n",
    "plt.figure(figsize=(10, 6))\n",
    "sns.lineplot(data=hourly_counts, x='start_hour', y='percent', hue='usertype')\n",
    "plt.title('Normalized Trips by Hour of the Day and User Type')\n",
    "plt.xlabel('Hour of the Day')\n",
    "plt.ylabel('Percentage of Trips')\n",
    "plt.show()"
   ]
  },
  {
   "cell_type": "markdown",
   "id": "4e16d9f7",
   "metadata": {},
   "source": [
    "### Normalized Trips by Hour of the Day and User Type:\n",
    "This line graph shows the distribution of the number of trips accros the hours of the day, for each user type. This can help us understand the times customers take the most trips to make the ads at these hours. Normalization was done to make the comparison easier and clearer.\n",
    "\n",
    "### Insights:\n",
    "Subscribers are most likely to take trips at the times of going to and leaving work (nine and five).\n",
    "Customers trips are usually between 10 am and 7 pm. They peak at around 3 pm."
   ]
  },
  {
   "cell_type": "code",
   "execution_count": 39,
   "id": "fc15c820",
   "metadata": {},
   "outputs": [
    {
     "data": {
      "image/png": "[encoded data removed]",
      "text/plain": [
       "<Figure size 1008x504 with 2 Axes>"
      ]
     },
     "metadata": {},
     "output_type": "display_data"
    }
   ],
   "source": [
    "# Calculate gender percentages by user type\n",
    "gender_user_type = df.groupby(['usertype', 'gender']).size().unstack().fillna(0)\n",
    "gender_user_type = gender_user_type.div(gender_user_type.sum(axis=1), axis=0) * 100\n",
    "\n",
    "# Create pie charts\n",
    "fig, axes = plt.subplots(1, 2, figsize=(14, 7))\n",
    "\n",
    "for ax, usertype in zip(axes, gender_user_type.index):\n",
    "    ax.pie(gender_user_type.loc[usertype], labels=gender_user_type.columns, autopct='%1.1f%%', startangle=140)\n",
    "    ax.set_title(f'Gender Distribution for {usertype}')\n",
    "\n",
    "plt.show()"
   ]
  },
  {
   "cell_type": "markdown",
   "id": "d4525720",
   "metadata": {},
   "source": [
    "### Gender Distribution Piecharts For Each User Type:\n",
    "These two pie charts show the percentages of users according to their gender and the percentage of users whose gender data is missing. One pie chart shows gender data percentages for customers, and the other for subscribers.\n",
    "\n",
    "### Insights:\n",
    "Predominantly Male Subscribers. Low Female Participation in both usertypes. High Percentage of unknown gender among customers."
   ]
  },
  {
   "cell_type": "markdown",
   "id": "847e9542",
   "metadata": {},
   "source": [
    "### Summarizing All the Insights From the Analysis:\n",
    "1. **Trip Duration**: Most trips are relatively short, with a significant peak around a few hundred seconds. This suggests that the majority of users are using the bikes for short commutes or quick trips.\n",
    "2. **Trips Peak Times**: Most trips peak times are in accordance with commuting times (around nine a.m and five p.m).\n",
    "3. **User Types**: Most users are subscribers with over 300,000 subscribers. Customers are a minority.\n",
    "4. **Gender**: Most users are male, with more than 250,000 users. Females are a lot less than males, with just over 50,000 users. A proportion of the users have don't have data for 'gender' (missing values) as already calculated in the data cleaning segment.\n",
    "5. **Trips Weekly Distribution**: The number of trips taken by subscribers is almost stable throught week days (Monday to Friday) and then decreases in weekends (Saturday and Sunday), which would suggest commuting. On the other hand, customers trips were at their highest on weekends and less so on weekdays.\n",
    "6. **Trip Duration by User Type**: Customers (casual riders) trips take longer durations than members.\n",
    "7. **Weekly Trip Duration**: For subscribers, the average trip duration is almost stable in each day of the week. For customers, the day with the lenghtheist trips is Thursday.\n",
    "8. **Trip Count**: The majority of trips are from subscribers with 341906 trips. Customers took 23163 trips.\n",
    "9. **Top Stations**: For subscribers, the top stations (start and end) are: 'Clinton St & Washington Blvd', 'Clinton St & Madison St' and 'Canal St & Adams St'. While for customers, the top stations (start and end) are: 'Streeter Dr & Grand Ave', 'Lake Shore Dr & Monroe St', 'Millennium Park' & 'Shedd Aquarium'. These stations should be targeted with ads for customers to be converted to subscribers.\n",
    "10. **Trip Duration Distribution**: Customers take longer duration trips than Subscribers as most trips that are longer than 1500 seconds are taken by customers. On the other hand, most subscribers trips are less than 1000 seconds.\n",
    "11. **Missing Birthyear Data**: The 'Customer' data is missing a lot (about three quarters) of 'birthyear' data. The company should try to gather more birthyear data from customers.\n",
    "12. **Age Distribution**:Younger people are more likely to be 'Customer' while older people are more likely to be 'Subsciber'. Most people below thirty years are Customers. Most people older than sixty years are Subscibers.\n",
    "13. **Peak Trip Times by User Type**: Subscribers are most likely to take trips at the times of going to and leaving work (nine and five). Customers trips are usually between 10 am and 7 pm. They peak at around 3 pm.\n",
    "14. **Gender Participation**: Predominantly Male Subscribers. Low Female Participation in both usertypes. High Percentage of unknown gender among customers."
   ]
  },
  {
   "cell_type": "markdown",
   "id": "1e7b17ea",
   "metadata": {},
   "source": [
    "## Final Recommendations to the Marketing Team:\n",
    "1. Weekend Advertising: Focus advertising efforts on weekends (Saturdays and Sundays), as these are the peak days for customer trips.\n",
    "2. Target Key Stations: Place ads at top customer start and end stations such as 'Streeter Dr & Grand Ave', 'Lake Shore Dr & Monroe St', and 'Shedd Aquarium'.\n",
    "3. Highlight Subscription Benefits: Emphasize the financial advantages of subscribing, particularly for users who take longer trips.\n",
    "4. Youth-Centric Campaigns: Target younger audiences, especially those under thirty, as they form the majority of the customer base.\n",
    "5. Peak Hour Advertising: Schedule ads around 3 p.m., which is the peak time for customer trips.\n",
    "6. Data Collection Improvement: Implement strategies to collect comprehensive gender and birthyear data from customers to enhance future analyses."
   ]
  }
 ],
 "metadata": {
  "kernelspec": {
   "display_name": "Python 3 (ipykernel)",
   "language": "python",
   "name": "python3"
  },
  "language_info": {
   "codemirror_mode": {
    "name": "ipython",
    "version": 3
   },
   "file_extension": ".py",
   "mimetype": "text/x-python",
   "name": "python",
   "nbconvert_exporter": "python",
   "pygments_lexer": "ipython3",
   "version": "3.9.7"
  }
 },
 "nbformat": 4,
 "nbformat_minor": 5
}
